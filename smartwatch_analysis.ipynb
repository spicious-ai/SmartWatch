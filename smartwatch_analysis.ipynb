{
 "cells": [
  {
   "cell_type": "code",
   "execution_count": 1,
   "metadata": {},
   "outputs": [
    {
     "name": "stdout",
     "output_type": "stream",
     "text": [
      "           Id ActivityDate  TotalSteps  TotalDistance  TrackerDistance  \\\n",
      "0  1503960366    4/12/2016       13162           8.50             8.50   \n",
      "1  1503960366    4/13/2016       10735           6.97             6.97   \n",
      "2  1503960366    4/14/2016       10460           6.74             6.74   \n",
      "3  1503960366    4/15/2016        9762           6.28             6.28   \n",
      "4  1503960366    4/16/2016       12669           8.16             8.16   \n",
      "\n",
      "   LoggedActivitiesDistance  VeryActiveDistance  ModeratelyActiveDistance  \\\n",
      "0                       0.0                1.88                      0.55   \n",
      "1                       0.0                1.57                      0.69   \n",
      "2                       0.0                2.44                      0.40   \n",
      "3                       0.0                2.14                      1.26   \n",
      "4                       0.0                2.71                      0.41   \n",
      "\n",
      "   LightActiveDistance  SedentaryActiveDistance  VeryActiveMinutes  \\\n",
      "0                 6.06                      0.0                 25   \n",
      "1                 4.71                      0.0                 21   \n",
      "2                 3.91                      0.0                 30   \n",
      "3                 2.83                      0.0                 29   \n",
      "4                 5.04                      0.0                 36   \n",
      "\n",
      "   FairlyActiveMinutes  LightlyActiveMinutes  SedentaryMinutes  Calories  \n",
      "0                   13                   328               728      1985  \n",
      "1                   19                   217               776      1797  \n",
      "2                   11                   181              1218      1776  \n",
      "3                   34                   209               726      1745  \n",
      "4                   10                   221               773      1863  \n"
     ]
    }
   ],
   "source": [
    "import pandas as pd\n",
    "import numpy as np\n",
    "import matplotlib.pyplot as plt\n",
    "import plotly.express as px\n",
    "import plotly.graph_objects as go\n",
    "\n",
    "\n",
    "data = pd.read_csv(\"./data/dailyActivity_merged.csv\")\n",
    "print(data.head())"
   ]
  },
  {
   "attachments": {},
   "cell_type": "markdown",
   "metadata": {},
   "source": [
    "Before starting the analysis, we must verify if the information presents empty fields"
   ]
  },
  {
   "cell_type": "code",
   "execution_count": 15,
   "metadata": {},
   "outputs": [
    {
     "name": "stdout",
     "output_type": "stream",
     "text": [
      "Id                          0\n",
      "ActivityDate                0\n",
      "TotalSteps                  0\n",
      "TotalDistance               0\n",
      "TrackerDistance             0\n",
      "LoggedActivitiesDistance    0\n",
      "VeryActiveDistance          0\n",
      "ModeratelyActiveDistance    0\n",
      "LightActiveDistance         0\n",
      "SedentaryActiveDistance     0\n",
      "VeryActiveMinutes           0\n",
      "FairlyActiveMinutes         0\n",
      "LightlyActiveMinutes        0\n",
      "SedentaryMinutes            0\n",
      "Calories                    0\n",
      "dtype: int64\n"
     ]
    }
   ],
   "source": [
    "print(data.isnull().sum())"
   ]
  },
  {
   "attachments": {},
   "cell_type": "markdown",
   "metadata": {},
   "source": [
    "Once verified that there is no null data, we can see information\n",
    "about columns and their data types"
   ]
  },
  {
   "cell_type": "code",
   "execution_count": 16,
   "metadata": {},
   "outputs": [
    {
     "name": "stdout",
     "output_type": "stream",
     "text": [
      "<class 'pandas.core.frame.DataFrame'>\n",
      "RangeIndex: 940 entries, 0 to 939\n",
      "Data columns (total 15 columns):\n",
      " #   Column                    Non-Null Count  Dtype  \n",
      "---  ------                    --------------  -----  \n",
      " 0   Id                        940 non-null    int64  \n",
      " 1   ActivityDate              940 non-null    object \n",
      " 2   TotalSteps                940 non-null    int64  \n",
      " 3   TotalDistance             940 non-null    float64\n",
      " 4   TrackerDistance           940 non-null    float64\n",
      " 5   LoggedActivitiesDistance  940 non-null    float64\n",
      " 6   VeryActiveDistance        940 non-null    float64\n",
      " 7   ModeratelyActiveDistance  940 non-null    float64\n",
      " 8   LightActiveDistance       940 non-null    float64\n",
      " 9   SedentaryActiveDistance   940 non-null    float64\n",
      " 10  VeryActiveMinutes         940 non-null    int64  \n",
      " 11  FairlyActiveMinutes       940 non-null    int64  \n",
      " 12  LightlyActiveMinutes      940 non-null    int64  \n",
      " 13  SedentaryMinutes          940 non-null    int64  \n",
      " 14  Calories                  940 non-null    int64  \n",
      "dtypes: float64(7), int64(7), object(1)\n",
      "memory usage: 110.3+ KB\n",
      "None\n"
     ]
    }
   ],
   "source": [
    "print(data.info())"
   ]
  },
  {
   "attachments": {},
   "cell_type": "markdown",
   "metadata": {},
   "source": [
    "Our target column will be ActivituDate, since this contains the first data we will analyze, so we need to convert its format to Datetime"
   ]
  },
  {
   "cell_type": "code",
   "execution_count": 17,
   "metadata": {},
   "outputs": [
    {
     "name": "stdout",
     "output_type": "stream",
     "text": [
      "<class 'pandas.core.frame.DataFrame'>\n",
      "RangeIndex: 940 entries, 0 to 939\n",
      "Data columns (total 15 columns):\n",
      " #   Column                    Non-Null Count  Dtype         \n",
      "---  ------                    --------------  -----         \n",
      " 0   Id                        940 non-null    int64         \n",
      " 1   ActivityDate              940 non-null    datetime64[ns]\n",
      " 2   TotalSteps                940 non-null    int64         \n",
      " 3   TotalDistance             940 non-null    float64       \n",
      " 4   TrackerDistance           940 non-null    float64       \n",
      " 5   LoggedActivitiesDistance  940 non-null    float64       \n",
      " 6   VeryActiveDistance        940 non-null    float64       \n",
      " 7   ModeratelyActiveDistance  940 non-null    float64       \n",
      " 8   LightActiveDistance       940 non-null    float64       \n",
      " 9   SedentaryActiveDistance   940 non-null    float64       \n",
      " 10  VeryActiveMinutes         940 non-null    int64         \n",
      " 11  FairlyActiveMinutes       940 non-null    int64         \n",
      " 12  LightlyActiveMinutes      940 non-null    int64         \n",
      " 13  SedentaryMinutes          940 non-null    int64         \n",
      " 14  Calories                  940 non-null    int64         \n",
      "dtypes: datetime64[ns](1), float64(7), int64(7)\n",
      "memory usage: 110.3 KB\n",
      "None\n"
     ]
    }
   ],
   "source": [
    "data['ActivityDate'] = pd.to_datetime(data['ActivityDate'],format='%m/%d/%Y')\n",
    "print(data.info())"
   ]
  },
  {
   "attachments": {},
   "cell_type": "markdown",
   "metadata": {},
   "source": [
    "\n",
    "We proceed to combine the information from the VeryActiveMinutes, FairlyActiveMinutes, LightlyActiveMinutes, SedentaryMinutes columns of the dataset\n",
    "in order to obtain a dataset"
   ]
  },
  {
   "cell_type": "code",
   "execution_count": 18,
   "metadata": {},
   "outputs": [
    {
     "name": "stdout",
     "output_type": "stream",
     "text": [
      "530    1067\n",
      "3       998\n",
      "234    1440\n",
      "338    1104\n",
      "194     902\n",
      "Name: TotalMinutes, dtype: int64\n"
     ]
    }
   ],
   "source": [
    "data['TotalMinutes'] = data['VeryActiveMinutes'] + data['FairlyActiveMinutes'] + data['LightlyActiveMinutes'] + data['SedentaryMinutes']\n",
    "print(data['TotalMinutes'].sample(5))"
   ]
  },
  {
   "attachments": {},
   "cell_type": "markdown",
   "metadata": {},
   "source": [
    "\n",
    "Now let's have a look to the descriptive statistics of the dataset"
   ]
  },
  {
   "cell_type": "code",
   "execution_count": 19,
   "metadata": {},
   "outputs": [
    {
     "name": "stdout",
     "output_type": "stream",
     "text": [
      "                 Id    TotalSteps  TotalDistance  TrackerDistance  \\\n",
      "count  9.400000e+02    940.000000     940.000000       940.000000   \n",
      "mean   4.855407e+09   7637.910638       5.489702         5.475351   \n",
      "std    2.424805e+09   5087.150742       3.924606         3.907276   \n",
      "min    1.503960e+09      0.000000       0.000000         0.000000   \n",
      "25%    2.320127e+09   3789.750000       2.620000         2.620000   \n",
      "50%    4.445115e+09   7405.500000       5.245000         5.245000   \n",
      "75%    6.962181e+09  10727.000000       7.712500         7.710000   \n",
      "max    8.877689e+09  36019.000000      28.030001        28.030001   \n",
      "\n",
      "       LoggedActivitiesDistance  VeryActiveDistance  ModeratelyActiveDistance  \\\n",
      "count                940.000000          940.000000                940.000000   \n",
      "mean                   0.108171            1.502681                  0.567543   \n",
      "std                    0.619897            2.658941                  0.883580   \n",
      "min                    0.000000            0.000000                  0.000000   \n",
      "25%                    0.000000            0.000000                  0.000000   \n",
      "50%                    0.000000            0.210000                  0.240000   \n",
      "75%                    0.000000            2.052500                  0.800000   \n",
      "max                    4.942142           21.920000                  6.480000   \n",
      "\n",
      "       LightActiveDistance  SedentaryActiveDistance  VeryActiveMinutes  \\\n",
      "count           940.000000               940.000000         940.000000   \n",
      "mean              3.340819                 0.001606          21.164894   \n",
      "std               2.040655                 0.007346          32.844803   \n",
      "min               0.000000                 0.000000           0.000000   \n",
      "25%               1.945000                 0.000000           0.000000   \n",
      "50%               3.365000                 0.000000           4.000000   \n",
      "75%               4.782500                 0.000000          32.000000   \n",
      "max              10.710000                 0.110000         210.000000   \n",
      "\n",
      "       FairlyActiveMinutes  LightlyActiveMinutes  SedentaryMinutes  \\\n",
      "count           940.000000            940.000000        940.000000   \n",
      "mean             13.564894            192.812766        991.210638   \n",
      "std              19.987404            109.174700        301.267437   \n",
      "min               0.000000              0.000000          0.000000   \n",
      "25%               0.000000            127.000000        729.750000   \n",
      "50%               6.000000            199.000000       1057.500000   \n",
      "75%              19.000000            264.000000       1229.500000   \n",
      "max             143.000000            518.000000       1440.000000   \n",
      "\n",
      "          Calories  TotalMinutes  \n",
      "count   940.000000    940.000000  \n",
      "mean   2303.609574   1218.753191  \n",
      "std     718.166862    265.931767  \n",
      "min       0.000000      2.000000  \n",
      "25%    1828.500000    989.750000  \n",
      "50%    2134.000000   1440.000000  \n",
      "75%    2793.250000   1440.000000  \n",
      "max    4900.000000   1440.000000  \n"
     ]
    }
   ],
   "source": [
    "print(data.describe())"
   ]
  },
  {
   "attachments": {},
   "cell_type": "markdown",
   "metadata": {},
   "source": [
    "The data set has a column of calories, which contains the number of calories burned per day, let's see the relationship between the number of calories burned and the total number of steps per day"
   ]
  },
  {
   "cell_type": "code",
   "execution_count": null,
   "metadata": {},
   "outputs": [],
   "source": [
    "fiugure = px.scatter(data_frame = data, x='Calories',\n",
    "                    y='TotalSteps', size='VeryActiveMinutes',\n",
    "                    trendline='ols',\n",
    "                    title='Relationship between Calories & Total Steps')\n",
    "fiugure.show()"
   ]
  },
  {
   "attachments": {},
   "cell_type": "markdown",
   "metadata": {},
   "source": [
    "<img src = media/scatter.jpg>"
   ]
  },
  {
   "attachments": {},
   "cell_type": "markdown",
   "metadata": {},
   "source": [
    "\n",
    "Now let's see an average between the total active minutes per day\n"
   ]
  },
  {
   "cell_type": "code",
   "execution_count": null,
   "metadata": {},
   "outputs": [],
   "source": [
    "from turtle import width\n",
    "\n",
    "\n",
    "label = [\"Very Active Minutes\", \"Fairly Active Minutes\", \n",
    "         \"Lightly Active Minutes\", \"Inactive Minutes\"]\n",
    "counts = data[[\"VeryActiveMinutes\", \"FairlyActiveMinutes\", \n",
    "               \"LightlyActiveMinutes\", \"SedentaryMinutes\"]].mean()\n",
    "colors = ['gold','lightgreen', \"pink\", \"blue\"]\n",
    "\n",
    "fig = go.Figure(data=[go.Pie(labels=label, values=counts)])\n",
    "fig.update_layout(title_text='Total Active Minutes')\n",
    "fig.update_traces(hoverinfo='label+percent', textinfo='value', textfont_size=30,\n",
    "                marker=dict(colors=colors, line=dict(color='black',width=3 )))"
   ]
  },
  {
   "attachments": {},
   "cell_type": "markdown",
   "metadata": {},
   "source": [
    "<img src = media/pie.jpg>"
   ]
  },
  {
   "attachments": {},
   "cell_type": "markdown",
   "metadata": {},
   "source": [
    "Earlier we transformed the data type of the 'ActivityDate' column to a datetime type, let's use that column to find the lazy days and add a new column to the dataset to represent those days"
   ]
  },
  {
   "attachments": {},
   "cell_type": "markdown",
   "metadata": {},
   "source": [
    "<img src = media/specs.png>"
   ]
  },
  {
   "cell_type": "code",
   "execution_count": 23,
   "metadata": {},
   "outputs": [
    {
     "name": "stdout",
     "output_type": "stream",
     "text": [
      "0      Tuesday\n",
      "1    Wednesday\n",
      "2     Thursday\n",
      "3       Friday\n",
      "4     Saturday\n",
      "Name: Day, dtype: object\n"
     ]
    }
   ],
   "source": [
    "data['Day'] = data['ActivityDate'].dt.day_name()\n",
    "print(data['Day'].head())"
   ]
  },
  {
   "attachments": {},
   "cell_type": "markdown",
   "metadata": {},
   "source": [
    "Let's see graphically the distribution of the days with activity\n"
   ]
  },
  {
   "cell_type": "code",
   "execution_count": null,
   "metadata": {},
   "outputs": [],
   "source": [
    "fig = go.Figure()\n",
    "fig.add_trace(go.Bar(\n",
    "    x=data['Day'],\n",
    "    y=data['VeryActiveMinutes'],\n",
    "    name='Very Active',\n",
    "    marker_color='purple'\n",
    "))\n",
    "fig.add_trace(go.Bar(\n",
    "    x=data['Day'],\n",
    "    y=data['FairlyActiveMinutes'],\n",
    "    name='Fairly Active',\n",
    "    marker_color='green'\n",
    "))\n",
    "fig.add_trace(go.Bar(\n",
    "    x=data['Day'],\n",
    "    y=data['LightlyActiveMinutes'],\n",
    "    name='Lightly Active',\n",
    "    marker_color='pink'\n",
    "))\n",
    "fig.update_layout(barmode='group', xaxis_tickangle=-45)\n",
    "fig.show()"
   ]
  },
  {
   "attachments": {},
   "cell_type": "markdown",
   "metadata": {},
   "source": [
    "<img src = media/figure.jpg>"
   ]
  },
  {
   "attachments": {},
   "cell_type": "markdown",
   "metadata": {},
   "source": [
    "\n",
    "Now let's see the number of inactive minutes on each day of the week"
   ]
  },
  {
   "cell_type": "code",
   "execution_count": null,
   "metadata": {},
   "outputs": [],
   "source": [
    "day = data['Day'].value_counts()\n",
    "label = day.index\n",
    "counts = data['SedentaryMinutes']\n",
    "colors = ['gold','lightgreen','pink','blue','skyblue','cyan','orange']\n",
    "\n",
    "fig = go.Figure(data=[go.Pie(labels=label, values=counts)])\n",
    "fig.update_layout(title_text='Inactive Minutes Daily')\n",
    "fig.update_traces(hoverinfo='label+percent', textinfo='value', textfont_size=30,\n",
    "                  marker=dict(colors=colors, line=dict(color='black', width=3)))\n",
    "fig.show()\n",
    "\n",
    "\n"
   ]
  },
  {
   "attachments": {},
   "cell_type": "markdown",
   "metadata": {},
   "source": [
    "<img  src = media/pie2.jpg>"
   ]
  },
  {
   "attachments": {},
   "cell_type": "markdown",
   "metadata": {},
   "source": [
    "\n",
    "With the information collected from several people we can reach the conclusion that on Thursdays\n",
    "are the least productive days in general\n",
    "Now let's see the number of calories burned for each day of the week"
   ]
  },
  {
   "cell_type": "code",
   "execution_count": null,
   "metadata": {},
   "outputs": [],
   "source": [
    "calories = data['Day'].value_counts()\n",
    "label = calories.index\n",
    "counts = data['Calories']\n",
    "colors = ['gold','lightgreen','pink','blue','purple','orange']\n",
    "\n",
    "fig = go.Figure(data=[go.Pie(labels=label, values=counts)])\n",
    "fig.update_layout(title_text='Calories Burned Daily')\n",
    "fig.update_traces(hoverinfo='label+percent', textinfo='value', textfont_size=30,\n",
    "                  marker=dict(colors=colors, line=dict(color='black', width=3)))\n",
    "fig.show()\n",
    "\n",
    "\n"
   ]
  },
  {
   "attachments": {},
   "cell_type": "markdown",
   "metadata": {},
   "source": [
    "<img src = media/pie3.jpg>"
   ]
  },
  {
   "attachments": {},
   "cell_type": "markdown",
   "metadata": {},
   "source": [
    "In conclusion, we can observe that Tuesday is indeed one of the days with the greatest movement for most of the individuals in the dataset, since most of the calories are burned on that day  "
   ]
  }
 ],
 "metadata": {
  "kernelspec": {
   "display_name": "Python 3.9.7 ('base')",
   "language": "python",
   "name": "python3"
  },
  "language_info": {
   "codemirror_mode": {
    "name": "ipython",
    "version": 3
   },
   "file_extension": ".py",
   "mimetype": "text/x-python",
   "name": "python",
   "nbconvert_exporter": "python",
   "pygments_lexer": "ipython3",
   "version": "3.9.7"
  },
  "orig_nbformat": 4,
  "vscode": {
   "interpreter": {
    "hash": "fa8a8926acf3524060ba66d6718178651e518e8df75fcf25fa379b76c6405ce0"
   }
  }
 },
 "nbformat": 4,
 "nbformat_minor": 2
}
